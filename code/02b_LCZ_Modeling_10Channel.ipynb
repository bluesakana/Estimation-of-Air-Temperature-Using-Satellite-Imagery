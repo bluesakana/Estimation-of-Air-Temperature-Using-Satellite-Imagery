{
 "cells": [
  {
   "cell_type": "markdown",
   "id": "03a9452a-5407-487c-bc5e-b639d501d068",
   "metadata": {},
   "source": [
    "# Local Climate Zone (LCZ) Identification Model - All Bands"
   ]
  },
  {
   "cell_type": "markdown",
   "id": "caac3100-5a82-47a7-a017-2608600889b7",
   "metadata": {},
   "source": [
    "This set of notebooks (2a and 2b) focuses on the fitting of the LCZ Identification Model using 2 different sets of specifications:\n",
    "1. RGB Bands SENTINEL-2 images\n",
    "2. All Bands (10) SENTINEL-2 images"
   ]
  },
  {
   "cell_type": "code",
   "execution_count": 34,
   "id": "58505a78-8dd8-413d-ba7c-4bbf7b1b358d",
   "metadata": {},
   "outputs": [],
   "source": [
    "import warnings\n",
    "warnings.filterwarnings(\"ignore\")"
   ]
  },
  {
   "cell_type": "code",
   "execution_count": 35,
   "id": "25ea0bd3-8d8c-4e40-8bbe-205b955ec64f",
   "metadata": {},
   "outputs": [],
   "source": [
    "import matplotlib.pyplot as plt\n",
    "import numpy as np\n",
    "import pandas as pd\n",
    "import tensorflow as tf\n",
    "import tensorflow_datasets as tfds\n",
    "from tensorflow.keras import datasets, layers, models, losses, Model, optimizers, metrics\n",
    "\n",
    "# additional configuration for function decorator, as TF2.0 does not have this set as True by default\n",
    "# this is required for the model to fit\n",
    "tf.config.run_functions_eagerly(True)"
   ]
  },
  {
   "cell_type": "code",
   "execution_count": 36,
   "id": "99380410-0724-4c4d-a7f8-5eb8e8ef9567",
   "metadata": {},
   "outputs": [
    {
     "name": "stdout",
     "output_type": "stream",
     "text": [
      "The autoreload extension is already loaded. To reload it, use:\n",
      "  %reload_ext autoreload\n"
     ]
    }
   ],
   "source": [
    "%load_ext autoreload\n",
    "%autoreload 2"
   ]
  },
  {
   "cell_type": "markdown",
   "id": "1fd8bc3c-6367-465b-8049-3b57b5a07cd9",
   "metadata": {},
   "source": [
    "----\n",
    "\n",
    "## Import Dataset"
   ]
  },
  {
   "cell_type": "code",
   "execution_count": 37,
   "id": "9ce6395d-954e-447e-940d-780b48ccc182",
   "metadata": {},
   "outputs": [],
   "source": [
    "# load dataset - specify split if need to split into train and validation\n",
    "train_ds, val_ds = tfds.load('so2sat/all', split=['train','validation'], download=False)"
   ]
  },
  {
   "cell_type": "code",
   "execution_count": 38,
   "id": "87f58274-77b2-4e89-806a-b9aa0f7ed2b2",
   "metadata": {},
   "outputs": [
    {
     "data": {
      "text/plain": [
       "<_PrefetchDataset element_spec={'label': TensorSpec(shape=(), dtype=tf.int64, name=None), 'sample_id': TensorSpec(shape=(), dtype=tf.int64, name=None), 'sentinel1': TensorSpec(shape=(32, 32, 8), dtype=tf.float32, name=None), 'sentinel2': TensorSpec(shape=(32, 32, 10), dtype=tf.float32, name=None)}>"
      ]
     },
     "execution_count": 38,
     "metadata": {},
     "output_type": "execute_result"
    }
   ],
   "source": [
    "train_ds"
   ]
  },
  {
   "cell_type": "code",
   "execution_count": 39,
   "id": "f13c6336-3dde-4f26-a5dd-800d456cfe0f",
   "metadata": {},
   "outputs": [],
   "source": [
    "# Function to remove sentinel 1 data from tf dataset\n",
    "def remove_sen1_from_tfds(ds):\n",
    "    \n",
    "    ds = ds.map(lambda x: {'label': x['label'],\n",
    "                           'sample_id': x['sample_id'],\n",
    "                           'sentinel2': x['sentinel2']})\n",
    "    return ds"
   ]
  },
  {
   "cell_type": "code",
   "execution_count": 40,
   "id": "64e47eb2-e210-4d03-a526-be8e05891709",
   "metadata": {},
   "outputs": [],
   "source": [
    "# Function to convert a tf dataset into a supervised format\n",
    "def convert_to_supervised_tfds(ds, predictor, outcome='label'):\n",
    "    '''\n",
    "    Parameters:\n",
    "    -----------\n",
    "    ds: tfds dataset\n",
    "    \n",
    "    predictor: str\n",
    "        name of predictor variable\n",
    "        \n",
    "    outcome: str\n",
    "        name of outcome variable\n",
    "        \n",
    "    Returns:\n",
    "    --------\n",
    "    tfds dataset\n",
    "        tuple with predictor and then outcome\n",
    "    '''\n",
    "    ds = ds.map(lambda x: (x[predictor], x[outcome]))\n",
    "    \n",
    "    return ds"
   ]
  },
  {
   "cell_type": "code",
   "execution_count": 41,
   "id": "36839bd2-c3e8-4284-abd5-3e3b1c3ac4ba",
   "metadata": {},
   "outputs": [],
   "source": [
    "# Function to reverse the order of the first 3 bands, i.e. BGR to RGB\n",
    "def remove_sen1_and_reverse_bgr(ds):\n",
    "    \n",
    "    ds = ds.map(lambda x: {'label': x['label'],\n",
    "                          'sample_id': x['sample_id'],\n",
    "                          'sentinel2': tf.gather(params=x['sentinel2'], \n",
    "                                                 indices=[2, 1, 0, 3, 4, 5, 6, 7, 8, 9],\n",
    "                                                 axis=2)})\n",
    "    \n",
    "    return ds"
   ]
  },
  {
   "cell_type": "code",
   "execution_count": 42,
   "id": "be5d27fa-c630-4331-9e47-e4ef488d21bd",
   "metadata": {},
   "outputs": [],
   "source": [
    "# remove sentinel 1 data from train and val datasets\n",
    "train_ds = remove_sen1_and_reverse_bgr(train_ds)\n",
    "val_ds = remove_sen1_and_reverse_bgr(val_ds)"
   ]
  },
  {
   "cell_type": "code",
   "execution_count": 43,
   "id": "d0135067-bcf9-41a5-8660-febb5a07f147",
   "metadata": {},
   "outputs": [],
   "source": [
    "# convert so2sat dataset into supervised, with sentinel2 data as predictor\n",
    "train_ds = convert_to_supervised_tfds(train_ds, 'sentinel2')\n",
    "val_ds = convert_to_supervised_tfds(val_ds, 'sentinel2')"
   ]
  },
  {
   "cell_type": "code",
   "execution_count": 44,
   "id": "5fa532d3-d6dd-41d7-ae3d-d6b9bc9c4c6d",
   "metadata": {},
   "outputs": [],
   "source": [
    "# convert normalised reflectance values to 255 shades to be more compatible with resnet50 pretrained model\n",
    "train_ds = train_ds.map(lambda image, label: ((image*255), label))\n",
    "val_ds = val_ds.map(lambda image, label: ((image*255), label))"
   ]
  },
  {
   "cell_type": "code",
   "execution_count": 45,
   "id": "647fef0f-48d7-49ec-b632-ad65fba8eb37",
   "metadata": {},
   "outputs": [
    {
     "name": "stderr",
     "output_type": "stream",
     "text": [
      "2023-05-26 00:46:28.487908: I tensorflow/core/common_runtime/executor.cc:1197] [/device:CPU:0] (DEBUG INFO) Executor start aborting (this does not indicate an error and you can ignore this message): INVALID_ARGUMENT: You must feed a value for placeholder tensor 'Placeholder/_3' with dtype int64 and shape [256]\n",
      "\t [[{{node Placeholder/_3}}]]\n",
      "2023-05-26 00:46:28.488446: I tensorflow/core/common_runtime/executor.cc:1197] [/device:CPU:0] (DEBUG INFO) Executor start aborting (this does not indicate an error and you can ignore this message): INVALID_ARGUMENT: You must feed a value for placeholder tensor 'Placeholder/_2' with dtype string and shape [256]\n",
      "\t [[{{node Placeholder/_2}}]]\n"
     ]
    },
    {
     "data": {
      "image/png": "[encoded data removed]",
      "text/plain": [
       "<Figure size 1000x1000 with 9 Axes>"
      ]
     },
     "metadata": {},
     "output_type": "display_data"
    }
   ],
   "source": [
    "# check out the first 9 images of the training dataset (for fun)\n",
    "plt.figure(figsize=(10, 10))\n",
    "for i, (image, label) in enumerate(train_ds.take(9).as_numpy_iterator()):\n",
    "    ax = plt.subplot(3, 3, i + 1)\n",
    "    plt.imshow(image[:,:,:3].astype(int))\n",
    "    plt.title(int(label))\n",
    "    plt.axis(\"off\")\n"
   ]
  },
  {
   "cell_type": "markdown",
   "id": "2bbafd8a-2607-43a7-a5ec-255aa88001b5",
   "metadata": {
    "tags": []
   },
   "source": [
    "----\n",
    "\n",
    "## Import Pretrained ResNet50 Model"
   ]
  },
  {
   "cell_type": "code",
   "execution_count": 13,
   "id": "f13b680e-1274-44eb-a6c7-856793ebf29f",
   "metadata": {},
   "outputs": [],
   "source": [
    "base_model = tf.keras.applications.ResNet50(weights = 'imagenet', include_top = False, input_shape = (32,32,3))\n",
    "\n",
    "base_model.trainable= False"
   ]
  },
  {
   "cell_type": "markdown",
   "id": "9f9ad53f-36e4-4a2b-9df0-43f7d2a9b334",
   "metadata": {
    "jp-MarkdownHeadingCollapsed": true,
    "tags": []
   },
   "source": [
    "### Reconfigure ResNet50 for RGB Band LCZ Identification Model\n",
    "\n",
    "ResNet50 is pretrained on 3-channel images. In order to handle an input of 10 channels, we need to expand the input channel to 10 channels. More details here: https://towardsdatascience.com/implementing-transfer-learning-from-rgb-to-multi-channel-imagery-f87924679166"
   ]
  },
  {
   "cell_type": "code",
   "execution_count": 14,
   "id": "5b997f49-ae4c-433a-911d-7849b30a58db",
   "metadata": {},
   "outputs": [],
   "source": [
    "# Get Resnet config in dictionary format\n",
    "config = base_model.get_config()\n",
    "\n",
    "# Change input shape to new dimensions\n",
    "config[\"layers\"][0][\"config\"][\"batch_input_shape\"] = (None, 32, 32, 10)"
   ]
  },
  {
   "cell_type": "code",
   "execution_count": 15,
   "id": "6335700e-556e-43eb-b534-7c81918844f2",
   "metadata": {},
   "outputs": [],
   "source": [
    "# create new base_model with new config\n",
    "base_model_new = tf.keras.models.Model.from_config(config)"
   ]
  },
  {
   "cell_type": "code",
   "execution_count": 16,
   "id": "f6538dd9-8b6c-4df0-97e8-d570f2cf85f6",
   "metadata": {},
   "outputs": [],
   "source": [
    "def multify_weights(kernel, out_channels):\n",
    "    '''\n",
    "    Function to expand weights dimension to match new input channels\n",
    "    '''\n",
    "    mean_1d = np.mean(kernel, axis=-2).reshape(kernel[:,:,-1:,:].shape)\n",
    "    \n",
    "    tiled = np.tile(mean_1d, (out_channels, 1))\n",
    "    \n",
    "    return(tiled)"
   ]
  },
  {
   "cell_type": "code",
   "execution_count": 17,
   "id": "a8e4e53b-4845-47ef-b1fb-4e053ac33769",
   "metadata": {},
   "outputs": [],
   "source": [
    "def copy_weights_tl(model_orig, custom_model, layer_modify):\n",
    "    '''\n",
    "    Function that loops through layers to both original and new model to copy over weights,\n",
    "    only first convolutional layer will have new weights\n",
    "    '''\n",
    "    layer_to_modify = [layer_modify]\n",
    "\n",
    "    conf = custom_model.get_config()\n",
    "    layer_names = [conf['layers'][x]['name'] for x in range(len(conf['layers']))]\n",
    "\n",
    "    for layer in model_orig.layers:\n",
    "        if layer.name in layer_names:\n",
    "            if layer.get_weights() != []:\n",
    "                target_layer = custom_model.get_layer(layer.name)\n",
    "\n",
    "                if layer.name in layer_to_modify:    \n",
    "                    kernels = layer.get_weights()[0]\n",
    "                    biases  = layer.get_weights()[1]\n",
    "\n",
    "                    kernels_extra_channel = np.concatenate((kernels,\n",
    "                                                          multify_weights(kernels, 10 - 3)),\n",
    "                                                          axis=-2)\n",
    "\n",
    "                    target_layer.set_weights([kernels_extra_channel, biases])\n",
    "                    target_layer.trainable = True\n",
    "\n",
    "                else:\n",
    "                    target_layer.set_weights(layer.get_weights())\n",
    "                    target_layer.trainable = False"
   ]
  },
  {
   "cell_type": "code",
   "execution_count": 18,
   "id": "83b36f1b-6948-4cd6-9ba5-0fc6de572f85",
   "metadata": {},
   "outputs": [],
   "source": [
    "copy_weights_tl(base_model, base_model_new, 'conv1_conv')"
   ]
  },
  {
   "cell_type": "code",
   "execution_count": 19,
   "id": "0f4e1617-6f9d-400b-a5a5-3ff9afad64e3",
   "metadata": {},
   "outputs": [],
   "source": [
    "# create new model on top\n",
    "inputs = tf.keras.Input(shape=(32, 32, 10))\n",
    "#inputs = layers.Conv2D(3, (1,1), activation='relu')(inputs)"
   ]
  },
  {
   "cell_type": "code",
   "execution_count": 20,
   "id": "19013a25-b146-41ec-976a-f80ef0c65383",
   "metadata": {},
   "outputs": [],
   "source": [
    "# build full model\n",
    "x = base_model_new(inputs)\n",
    "x = layers.GlobalAveragePooling2D()(x)\n",
    "#x = layers.Dense(1000, activation='relu')(x)\n",
    "x = layers.Dropout(0.2)(x)\n",
    "predictions = layers.Dense(17, activation='softmax')(x)\n",
    "\n",
    "model_resnet50 = Model(inputs=inputs, outputs=predictions)"
   ]
  },
  {
   "cell_type": "code",
   "execution_count": 49,
   "id": "9688907f-e6fe-47e8-992c-4d44924803bf",
   "metadata": {},
   "outputs": [],
   "source": [
    "# define batch size and caching to optimise training speed\n",
    "batch_size = 32\n",
    "\n",
    "train_ds = train_ds.cache().batch(batch_size).prefetch(buffer_size=10)\n",
    "val_ds = val_ds.cache().batch(batch_size).prefetch(buffer_size=10)\n"
   ]
  },
  {
   "cell_type": "code",
   "execution_count": 22,
   "id": "a0c7e312-25df-4839-9b9b-ddb4e5b532ae",
   "metadata": {},
   "outputs": [
    {
     "name": "stdout",
     "output_type": "stream",
     "text": [
      "Model: \"model\"\n",
      "_________________________________________________________________\n",
      " Layer (type)                Output Shape              Param #   \n",
      "=================================================================\n",
      " input_2 (InputLayer)        [(None, 32, 32, 10)]      0         \n",
      "                                                                 \n",
      " resnet50 (Functional)       (None, 1, 1, 2048)        23609664  \n",
      "                                                                 \n",
      " global_average_pooling2d (G  (None, 2048)             0         \n",
      " lobalAveragePooling2D)                                          \n",
      "                                                                 \n",
      " dropout (Dropout)           (None, 2048)              0         \n",
      "                                                                 \n",
      " dense (Dense)               (None, 17)                34833     \n",
      "                                                                 \n",
      "=================================================================\n",
      "Total params: 23,644,497\n",
      "Trainable params: 66,257\n",
      "Non-trainable params: 23,578,240\n",
      "_________________________________________________________________\n"
     ]
    }
   ],
   "source": [
    "model_resnet50.summary()"
   ]
  },
  {
   "cell_type": "code",
   "execution_count": 23,
   "id": "6c3fd46d-d7b0-4c45-bca1-4d845c56db48",
   "metadata": {},
   "outputs": [],
   "source": [
    "# implement early stopping\n",
    "callback = tf.keras.callbacks.EarlyStopping(monitor='loss', patience=2)\n"
   ]
  },
  {
   "cell_type": "code",
   "execution_count": 24,
   "id": "2a53459e-b993-4491-9d4c-22e5e462ceed",
   "metadata": {},
   "outputs": [],
   "source": [
    "# implement Tensorboard history logging\n",
    "history_logger = tf.keras.callbacks.TensorBoard(log_dir='../models/resnet50_10ch/')\n",
    "\n",
    "## to use tensorboard\n",
    "# tensorboard --logdir=path_to_your_logs"
   ]
  },
  {
   "cell_type": "code",
   "execution_count": 25,
   "id": "cce445be-2374-4ab5-9216-f7c6e2e9116f",
   "metadata": {},
   "outputs": [],
   "source": [
    "# compile model\n",
    "model_resnet50.compile(\n",
    "    optimizer=optimizers.Adam(),\n",
    "    loss=losses.sparse_categorical_crossentropy,\n",
    "    metrics=[metrics.sparse_categorical_accuracy],\n",
    ")"
   ]
  },
  {
   "cell_type": "markdown",
   "id": "26f97188-ad1e-44b9-8ce5-6e2a564bb032",
   "metadata": {
    "tags": []
   },
   "source": [
    "### Compile and Fit Model\n",
    "\n",
    "The model fitting is split into multiple steps to both enable interim checks on model performance and safeguards in case the kernel dies halfway"
   ]
  },
  {
   "cell_type": "code",
   "execution_count": 26,
   "id": "7cfb759d-7633-41e1-8591-a47d72c02194",
   "metadata": {
    "scrolled": true,
    "tags": []
   },
   "outputs": [
    {
     "name": "stdout",
     "output_type": "stream",
     "text": [
      "Epoch 1/5\n"
     ]
    },
    {
     "name": "stderr",
     "output_type": "stream",
     "text": [
      "2023-05-21 07:36:48.444969: I tensorflow/core/common_runtime/executor.cc:1197] [/device:CPU:0] (DEBUG INFO) Executor start aborting (this does not indicate an error and you can ignore this message): INVALID_ARGUMENT: You must feed a value for placeholder tensor 'Placeholder/_4' with dtype int64 and shape [256]\n",
      "\t [[{{node Placeholder/_4}}]]\n",
      "2023-05-21 07:36:48.445389: I tensorflow/core/common_runtime/executor.cc:1197] [/device:CPU:0] (DEBUG INFO) Executor start aborting (this does not indicate an error and you can ignore this message): INVALID_ARGUMENT: You must feed a value for placeholder tensor 'Placeholder/_0' with dtype string and shape [256]\n",
      "\t [[{{node Placeholder/_0}}]]\n"
     ]
    },
    {
     "name": "stdout",
     "output_type": "stream",
     "text": [
      "11012/11012 [==============================] - ETA: 0s - loss: 1.0678 - sparse_categorical_accuracy: 0.6497"
     ]
    },
    {
     "name": "stderr",
     "output_type": "stream",
     "text": [
      "2023-05-21 09:04:29.601171: I tensorflow/core/common_runtime/executor.cc:1197] [/device:CPU:0] (DEBUG INFO) Executor start aborting (this does not indicate an error and you can ignore this message): INVALID_ARGUMENT: You must feed a value for placeholder tensor 'Placeholder/_3' with dtype int64 and shape [16]\n",
      "\t [[{{node Placeholder/_3}}]]\n",
      "2023-05-21 09:04:29.601680: I tensorflow/core/common_runtime/executor.cc:1197] [/device:CPU:0] (DEBUG INFO) Executor start aborting (this does not indicate an error and you can ignore this message): INVALID_ARGUMENT: You must feed a value for placeholder tensor 'Placeholder/_0' with dtype string and shape [16]\n",
      "\t [[{{node Placeholder/_0}}]]\n"
     ]
    },
    {
     "name": "stdout",
     "output_type": "stream",
     "text": [
      "11012/11012 [==============================] - 5387s 489ms/step - loss: 1.0678 - sparse_categorical_accuracy: 0.6497 - val_loss: 1.6302 - val_sparse_categorical_accuracy: 0.5275\n",
      "Epoch 2/5\n",
      "11012/11012 [==============================] - 4081s 371ms/step - loss: 0.9300 - sparse_categorical_accuracy: 0.6904 - val_loss: 1.6225 - val_sparse_categorical_accuracy: 0.5371\n",
      "Epoch 3/5\n",
      "11012/11012 [==============================] - 3981s 362ms/step - loss: 0.8897 - sparse_categorical_accuracy: 0.7037 - val_loss: 1.7861 - val_sparse_categorical_accuracy: 0.5443\n",
      "Epoch 4/5\n",
      "11012/11012 [==============================] - 3901s 354ms/step - loss: 0.8660 - sparse_categorical_accuracy: 0.7107 - val_loss: 1.6119 - val_sparse_categorical_accuracy: 0.5398\n",
      "Epoch 5/5\n",
      "11012/11012 [==============================] - 3938s 358ms/step - loss: 0.8511 - sparse_categorical_accuracy: 0.7159 - val_loss: 1.6772 - val_sparse_categorical_accuracy: 0.5409\n"
     ]
    }
   ],
   "source": [
    "history_resnet50 =  model_resnet50.fit(train_ds, epochs=5, \n",
    "                                       validation_data=val_ds, \n",
    "                                       #batch_size=32,\n",
    "                                       callbacks=[callback, history_logger],\n",
    "                                       workers=3, use_multiprocessing=True)"
   ]
  },
  {
   "cell_type": "code",
   "execution_count": 27,
   "id": "731e54da-b27a-4b8c-af3d-03ca0a3ae173",
   "metadata": {},
   "outputs": [
    {
     "name": "stderr",
     "output_type": "stream",
     "text": [
      "WARNING:absl:Found untraced functions such as _update_step_xla, _jit_compiled_convolution_op, _jit_compiled_convolution_op, _jit_compiled_convolution_op, _jit_compiled_convolution_op while saving (showing 5 of 54). These functions will not be directly callable after loading.\n"
     ]
    },
    {
     "name": "stdout",
     "output_type": "stream",
     "text": [
      "INFO:tensorflow:Assets written to: ../models/model_resnet50_10ch_trans_rev/assets\n"
     ]
    },
    {
     "name": "stderr",
     "output_type": "stream",
     "text": [
      "INFO:tensorflow:Assets written to: ../models/model_resnet50_10ch_trans_rev/assets\n"
     ]
    }
   ],
   "source": [
    "# save model\n",
    "model_resnet50.save('../models/model_resnet50_10ch_trans_rev')"
   ]
  },
  {
   "cell_type": "code",
   "execution_count": 28,
   "id": "fe045541-29f3-4027-b7fb-0b3994633d40",
   "metadata": {},
   "outputs": [],
   "source": [
    "# save history\n",
    "import json\n",
    "\n",
    "json.dump(history_resnet50.history, open('../models/history_resnet50_10ch_trans_rev.json', 'w'))"
   ]
  },
  {
   "cell_type": "code",
   "execution_count": 29,
   "id": "e3754aed-7259-4153-8ec3-beca5667774e",
   "metadata": {
    "scrolled": true,
    "tags": []
   },
   "outputs": [
    {
     "name": "stdout",
     "output_type": "stream",
     "text": [
      "Epoch 6/20\n",
      "11012/11012 [==============================] - 4558s 414ms/step - loss: 0.8381 - sparse_categorical_accuracy: 0.7193 - val_loss: 2.0210 - val_sparse_categorical_accuracy: 0.5225\n",
      "Epoch 7/20\n",
      "11012/11012 [==============================] - 4736s 430ms/step - loss: 0.8274 - sparse_categorical_accuracy: 0.7229 - val_loss: 1.8935 - val_sparse_categorical_accuracy: 0.5325\n",
      "Epoch 8/20\n",
      "11012/11012 [==============================] - 4743s 431ms/step - loss: 0.8186 - sparse_categorical_accuracy: 0.7256 - val_loss: 1.9285 - val_sparse_categorical_accuracy: 0.5331\n",
      "Epoch 9/20\n",
      "11012/11012 [==============================] - 4627s 420ms/step - loss: 0.8085 - sparse_categorical_accuracy: 0.7290 - val_loss: 2.0970 - val_sparse_categorical_accuracy: 0.5419\n",
      "Epoch 10/20\n",
      "11012/11012 [==============================] - 4562s 414ms/step - loss: 0.8036 - sparse_categorical_accuracy: 0.7304 - val_loss: 2.2534 - val_sparse_categorical_accuracy: 0.5258\n",
      "Epoch 11/20\n",
      "11012/11012 [==============================] - 4459s 405ms/step - loss: 0.7985 - sparse_categorical_accuracy: 0.7321 - val_loss: 1.8875 - val_sparse_categorical_accuracy: 0.5511\n",
      "Epoch 12/20\n",
      "11012/11012 [==============================] - 4455s 405ms/step - loss: 0.7906 - sparse_categorical_accuracy: 0.7357 - val_loss: 1.9936 - val_sparse_categorical_accuracy: 0.5405\n",
      "Epoch 13/20\n",
      "11012/11012 [==============================] - 4496s 408ms/step - loss: 0.7866 - sparse_categorical_accuracy: 0.7365 - val_loss: 2.1104 - val_sparse_categorical_accuracy: 0.5346\n",
      "Epoch 14/20\n",
      "11012/11012 [==============================] - 4487s 407ms/step - loss: 0.7841 - sparse_categorical_accuracy: 0.7368 - val_loss: 1.8219 - val_sparse_categorical_accuracy: 0.5555\n",
      "Epoch 15/20\n",
      "11012/11012 [==============================] - 4521s 411ms/step - loss: 0.7801 - sparse_categorical_accuracy: 0.7391 - val_loss: 1.9446 - val_sparse_categorical_accuracy: 0.5536\n",
      "Epoch 16/20\n",
      "11012/11012 [==============================] - 4423s 402ms/step - loss: 0.7754 - sparse_categorical_accuracy: 0.7402 - val_loss: 2.1539 - val_sparse_categorical_accuracy: 0.5351\n",
      "Epoch 17/20\n",
      "11012/11012 [==============================] - 4322s 392ms/step - loss: 0.7717 - sparse_categorical_accuracy: 0.7410 - val_loss: 1.8787 - val_sparse_categorical_accuracy: 0.5404\n",
      "Epoch 18/20\n",
      "11012/11012 [==============================] - 4566s 415ms/step - loss: 0.7679 - sparse_categorical_accuracy: 0.7427 - val_loss: 1.9630 - val_sparse_categorical_accuracy: 0.5416\n",
      "Epoch 19/20\n",
      "11012/11012 [==============================] - 4377s 397ms/step - loss: 0.7680 - sparse_categorical_accuracy: 0.7432 - val_loss: 1.9855 - val_sparse_categorical_accuracy: 0.5404\n",
      "Epoch 20/20\n",
      "11012/11012 [==============================] - 3801s 345ms/step - loss: 0.7644 - sparse_categorical_accuracy: 0.7444 - val_loss: 2.2038 - val_sparse_categorical_accuracy: 0.5410\n"
     ]
    }
   ],
   "source": [
    "history_resnet50 =  model_resnet50.fit(train_ds, epochs=20, \n",
    "                                       validation_data=val_ds, \n",
    "                                       #batch_size=32,\n",
    "                                       callbacks=[callback, history_logger],\n",
    "                                      initial_epoch=history_resnet50.epoch[-1]+1,\n",
    "                                       workers=4, use_multiprocessing=True)"
   ]
  },
  {
   "cell_type": "code",
   "execution_count": 30,
   "id": "ad961bbb-e33b-460b-a547-8bc8c37fbdb9",
   "metadata": {},
   "outputs": [
    {
     "name": "stderr",
     "output_type": "stream",
     "text": [
      "WARNING:absl:Found untraced functions such as _update_step_xla, _jit_compiled_convolution_op, _jit_compiled_convolution_op, _jit_compiled_convolution_op, _jit_compiled_convolution_op while saving (showing 5 of 54). These functions will not be directly callable after loading.\n"
     ]
    },
    {
     "name": "stdout",
     "output_type": "stream",
     "text": [
      "INFO:tensorflow:Assets written to: ../models/model_resnet50_10ch_trans_rev_2/assets\n"
     ]
    },
    {
     "name": "stderr",
     "output_type": "stream",
     "text": [
      "INFO:tensorflow:Assets written to: ../models/model_resnet50_10ch_trans_rev_2/assets\n"
     ]
    }
   ],
   "source": [
    "# save model\n",
    "model_resnet50.save('../models/model_resnet50_10ch_trans_rev_2')"
   ]
  },
  {
   "cell_type": "code",
   "execution_count": 31,
   "id": "9ef6ed08-c57b-42b1-b6cc-b40a4e39f0e2",
   "metadata": {},
   "outputs": [],
   "source": [
    "# save history\n",
    "import json\n",
    "\n",
    "json.dump(history_resnet50.history, open('../models/history_resnet50_10ch_trans_rev_2.json', 'w'))"
   ]
  },
  {
   "cell_type": "code",
   "execution_count": 31,
   "id": "7e329361-7386-4bae-a32c-f5608960ad9f",
   "metadata": {
    "scrolled": true,
    "tags": []
   },
   "outputs": [
    {
     "name": "stdout",
     "output_type": "stream",
     "text": [
      "Epoch 21/30\n",
      "11012/11012 [==============================] - 3857s 350ms/step - loss: 0.7587 - sparse_categorical_accuracy: 0.7451 - val_loss: 2.1856 - val_sparse_categorical_accuracy: 0.5502\n",
      "Epoch 22/30\n",
      "11012/11012 [==============================] - 3884s 353ms/step - loss: 0.7582 - sparse_categorical_accuracy: 0.7460 - val_loss: 2.1639 - val_sparse_categorical_accuracy: 0.5397\n",
      "Epoch 23/30\n",
      "11012/11012 [==============================] - 3924s 356ms/step - loss: 0.7542 - sparse_categorical_accuracy: 0.7474 - val_loss: 2.2999 - val_sparse_categorical_accuracy: 0.5496\n",
      "Epoch 24/30\n",
      "11012/11012 [==============================] - 3964s 360ms/step - loss: 0.7547 - sparse_categorical_accuracy: 0.7473 - val_loss: 2.1809 - val_sparse_categorical_accuracy: 0.5476\n",
      "Epoch 25/30\n",
      "11012/11012 [==============================] - 3938s 358ms/step - loss: 0.7511 - sparse_categorical_accuracy: 0.7485 - val_loss: 2.5529 - val_sparse_categorical_accuracy: 0.5380\n",
      "Epoch 26/30\n",
      "11012/11012 [==============================] - 3935s 357ms/step - loss: 0.7527 - sparse_categorical_accuracy: 0.7480 - val_loss: 2.3467 - val_sparse_categorical_accuracy: 0.5421\n",
      "Epoch 27/30\n",
      "11012/11012 [==============================] - 4209s 382ms/step - loss: 0.7501 - sparse_categorical_accuracy: 0.7497 - val_loss: 2.1218 - val_sparse_categorical_accuracy: 0.5654\n",
      "Epoch 28/30\n",
      "11012/11012 [==============================] - 4074s 370ms/step - loss: 0.7492 - sparse_categorical_accuracy: 0.7494 - val_loss: 2.2004 - val_sparse_categorical_accuracy: 0.5516\n",
      "Epoch 29/30\n",
      "11012/11012 [==============================] - 3946s 358ms/step - loss: 0.7462 - sparse_categorical_accuracy: 0.7503 - val_loss: 2.1420 - val_sparse_categorical_accuracy: 0.5411\n",
      "Epoch 30/30\n",
      "11012/11012 [==============================] - 3957s 359ms/step - loss: 0.7398 - sparse_categorical_accuracy: 0.7525 - val_loss: 2.2718 - val_sparse_categorical_accuracy: 0.5419\n"
     ]
    }
   ],
   "source": [
    "history_resnet50 =  model_resnet50.fit(train_ds, epochs=30, \n",
    "                                       validation_data=val_ds, \n",
    "                                       #batch_size=32,\n",
    "                                       callbacks=[callback, history_logger],\n",
    "                                       initial_epoch=history_resnet50.epoch[-1]+1,\n",
    "                                       workers=4, use_multiprocessing=True)"
   ]
  },
  {
   "cell_type": "code",
   "execution_count": 32,
   "id": "8563a0ba-c4a8-41b8-bb96-6d89ff7c7b6c",
   "metadata": {},
   "outputs": [
    {
     "name": "stderr",
     "output_type": "stream",
     "text": [
      "WARNING:absl:Found untraced functions such as _update_step_xla, _jit_compiled_convolution_op, _jit_compiled_convolution_op, _jit_compiled_convolution_op, _jit_compiled_convolution_op while saving (showing 5 of 54). These functions will not be directly callable after loading.\n"
     ]
    },
    {
     "name": "stdout",
     "output_type": "stream",
     "text": [
      "INFO:tensorflow:Assets written to: ../models/model_resnet50_10ch_trans_rev_3/assets\n"
     ]
    },
    {
     "name": "stderr",
     "output_type": "stream",
     "text": [
      "INFO:tensorflow:Assets written to: ../models/model_resnet50_10ch_trans_rev_3/assets\n"
     ]
    }
   ],
   "source": [
    "# save model\n",
    "model_resnet50.save('../models/model_resnet50_10ch_trans_rev_3')"
   ]
  },
  {
   "cell_type": "code",
   "execution_count": 33,
   "id": "55ee67ee-4f7b-4276-88b9-62eac2a57c04",
   "metadata": {},
   "outputs": [],
   "source": [
    "# save history\n",
    "import json\n",
    "\n",
    "json.dump(history_resnet50.history, open('../models/history_resnet50_10ch_trans_rev_3.json', 'w'))"
   ]
  },
  {
   "cell_type": "code",
   "execution_count": 50,
   "id": "96e6f8e9-0942-4983-a7e9-efd1e4c7baad",
   "metadata": {
    "scrolled": true,
    "tags": []
   },
   "outputs": [
    {
     "name": "stdout",
     "output_type": "stream",
     "text": [
      "Epoch 31/50\n"
     ]
    },
    {
     "name": "stderr",
     "output_type": "stream",
     "text": [
      "2023-05-26 08:17:46.808022: I tensorflow/core/common_runtime/executor.cc:1197] [/device:CPU:0] (DEBUG INFO) Executor start aborting (this does not indicate an error and you can ignore this message): INVALID_ARGUMENT: You must feed a value for placeholder tensor 'Placeholder/_3' with dtype int64 and shape [256]\n",
      "\t [[{{node Placeholder/_3}}]]\n",
      "2023-05-26 08:17:46.808495: I tensorflow/core/common_runtime/executor.cc:1197] [/device:CPU:0] (DEBUG INFO) Executor start aborting (this does not indicate an error and you can ignore this message): INVALID_ARGUMENT: You must feed a value for placeholder tensor 'Placeholder/_4' with dtype int64 and shape [256]\n",
      "\t [[{{node Placeholder/_4}}]]\n"
     ]
    },
    {
     "name": "stdout",
     "output_type": "stream",
     "text": [
      "11012/11012 [==============================] - ETA: 0s - loss: 0.7407 - sparse_categorical_accuracy: 0.7523"
     ]
    },
    {
     "name": "stderr",
     "output_type": "stream",
     "text": [
      "2023-05-26 09:22:28.118689: I tensorflow/core/common_runtime/executor.cc:1197] [/device:CPU:0] (DEBUG INFO) Executor start aborting (this does not indicate an error and you can ignore this message): INVALID_ARGUMENT: You must feed a value for placeholder tensor 'Placeholder/_2' with dtype string and shape [16]\n",
      "\t [[{{node Placeholder/_2}}]]\n",
      "2023-05-26 09:22:28.119170: I tensorflow/core/common_runtime/executor.cc:1197] [/device:CPU:0] (DEBUG INFO) Executor start aborting (this does not indicate an error and you can ignore this message): INVALID_ARGUMENT: You must feed a value for placeholder tensor 'Placeholder/_4' with dtype int64 and shape [16]\n",
      "\t [[{{node Placeholder/_4}}]]\n"
     ]
    },
    {
     "name": "stdout",
     "output_type": "stream",
     "text": [
      "11012/11012 [==============================] - 4000s 363ms/step - loss: 0.7407 - sparse_categorical_accuracy: 0.7523 - val_loss: 2.3611 - val_sparse_categorical_accuracy: 0.5453\n",
      "Epoch 32/50\n",
      "11012/11012 [==============================] - 4008s 364ms/step - loss: 0.7429 - sparse_categorical_accuracy: 0.7515 - val_loss: 2.5747 - val_sparse_categorical_accuracy: 0.5508\n",
      "Epoch 33/50\n",
      "11012/11012 [==============================] - 4078s 370ms/step - loss: 0.7387 - sparse_categorical_accuracy: 0.7529 - val_loss: 2.2740 - val_sparse_categorical_accuracy: 0.5417\n",
      "Epoch 34/50\n",
      "11012/11012 [==============================] - 4074s 370ms/step - loss: 0.7377 - sparse_categorical_accuracy: 0.7532 - val_loss: 2.4218 - val_sparse_categorical_accuracy: 0.5531\n",
      "Epoch 35/50\n",
      "11012/11012 [==============================] - 4070s 370ms/step - loss: 0.7349 - sparse_categorical_accuracy: 0.7541 - val_loss: 2.4788 - val_sparse_categorical_accuracy: 0.5412\n",
      "Epoch 36/50\n",
      "11012/11012 [==============================] - 4048s 368ms/step - loss: 0.7339 - sparse_categorical_accuracy: 0.7549 - val_loss: 2.6041 - val_sparse_categorical_accuracy: 0.5509\n",
      "Epoch 37/50\n",
      "11012/11012 [==============================] - 4043s 367ms/step - loss: 0.7310 - sparse_categorical_accuracy: 0.7554 - val_loss: 2.7256 - val_sparse_categorical_accuracy: 0.5508\n",
      "Epoch 38/50\n",
      " 9226/11012 [========================>.....] - ETA: 10:32 - loss: 0.7317 - sparse_categorical_accuracy: 0.7553"
     ]
    },
    {
     "name": "stderr",
     "output_type": "stream",
     "text": [
      "IOPub message rate exceeded.\n",
      "The Jupyter server will temporarily stop sending output\n",
      "to the client in order to avoid crashing it.\n",
      "To change this limit, set the config variable\n",
      "`--ServerApp.iopub_msg_rate_limit`.\n",
      "\n",
      "Current values:\n",
      "ServerApp.iopub_msg_rate_limit=1000.0 (msgs/sec)\n",
      "ServerApp.rate_limit_window=3.0 (secs)\n",
      "\n"
     ]
    },
    {
     "name": "stdout",
     "output_type": "stream",
     "text": [
      "11012/11012 [==============================] - 3997s 363ms/step - loss: 0.7335 - sparse_categorical_accuracy: 0.7551 - val_loss: 2.5607 - val_sparse_categorical_accuracy: 0.5470\n"
     ]
    }
   ],
   "source": [
    "history_resnet50 =  model_resnet50.fit(train_ds, epochs=50, \n",
    "                                       validation_data=val_ds, \n",
    "                                       #batch_size=32,\n",
    "                                       callbacks=[callback, history_logger],\n",
    "                                      initial_epoch=history_resnet50.epoch[-1]+1,\n",
    "                                       workers=4, use_multiprocessing=True)"
   ]
  },
  {
   "cell_type": "code",
   "execution_count": 51,
   "id": "a1789574-5473-47f6-ba3a-e54e19ef7c25",
   "metadata": {},
   "outputs": [
    {
     "name": "stderr",
     "output_type": "stream",
     "text": [
      "WARNING:absl:Found untraced functions such as _update_step_xla, _jit_compiled_convolution_op, _jit_compiled_convolution_op, _jit_compiled_convolution_op, _jit_compiled_convolution_op while saving (showing 5 of 54). These functions will not be directly callable after loading.\n"
     ]
    },
    {
     "name": "stdout",
     "output_type": "stream",
     "text": [
      "INFO:tensorflow:Assets written to: ../models/model_resnet50_10ch_trans_rev_4/assets\n"
     ]
    },
    {
     "name": "stderr",
     "output_type": "stream",
     "text": [
      "INFO:tensorflow:Assets written to: ../models/model_resnet50_10ch_trans_rev_4/assets\n"
     ]
    }
   ],
   "source": [
    "# save model\n",
    "model_resnet50.save('../models/model_resnet50_10ch_trans_rev_4')"
   ]
  },
  {
   "cell_type": "code",
   "execution_count": 52,
   "id": "396947da-55eb-4501-8159-4d5d1b22f52f",
   "metadata": {},
   "outputs": [],
   "source": [
    "# save history\n",
    "import json\n",
    "\n",
    "json.dump(history_resnet50.history, open('../models/history_resnet50_10ch_trans_rev_4.json', 'w'))"
   ]
  }
 ],
 "metadata": {
  "kernelspec": {
   "display_name": "Python 3 (ipykernel)",
   "language": "python",
   "name": "python3"
  },
  "language_info": {
   "codemirror_mode": {
    "name": "ipython",
    "version": 3
   },
   "file_extension": ".py",
   "mimetype": "text/x-python",
   "name": "python",
   "nbconvert_exporter": "python",
   "pygments_lexer": "ipython3",
   "version": "3.10.10"
  }
 },
 "nbformat": 4,
 "nbformat_minor": 5
}
