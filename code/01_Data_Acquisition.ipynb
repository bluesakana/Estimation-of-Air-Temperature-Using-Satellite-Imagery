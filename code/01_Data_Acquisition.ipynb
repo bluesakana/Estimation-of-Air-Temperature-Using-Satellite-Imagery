{
 "cells": [
  {
   "cell_type": "markdown",
   "id": "35bfc633-8a54-4c8c-953c-32ae93022a48",
   "metadata": {},
   "source": [
    "# Data Acquisition"
   ]
  },
  {
   "cell_type": "markdown",
   "id": "d9c41dcc-5805-4c56-b7e4-bd199f47ec4f",
   "metadata": {},
   "source": [
    "This notebook focuses on downloading and preparing the datasets required for training the LCZ Identification Model and the Air Temperature Estimation Model."
   ]
  },
  {
   "cell_type": "code",
   "execution_count": 513,
   "id": "08d53399-1a49-4dc5-b8e8-cdc518c95c0e",
   "metadata": {
    "tags": []
   },
   "outputs": [],
   "source": [
    "import matplotlib.pyplot as plt\n",
    "import numpy as np\n",
    "import pandas as pd\n",
    "import tensorflow as tf\n",
    "import tensorflow_datasets as tfds\n",
    "\n",
    "import ee\n",
    "import geemap\n",
    "from gee_functions import * # custom functions for GEE\n",
    "from settings import * # global variables for GEE data download\n",
    "\n",
    "from IPython.display import Image\n",
    "import folium\n",
    "\n",
    "from datetime import datetime, timedelta\n",
    "from dateutil.relativedelta import relativedelta\n",
    "\n",
    "import requests\n",
    "import pickle"
   ]
  },
  {
   "cell_type": "code",
   "execution_count": 207,
   "id": "929bacde-729b-4b9d-95db-59b532300aac",
   "metadata": {},
   "outputs": [],
   "source": [
    "import warnings\n",
    "warnings.filterwarnings(\"ignore\")"
   ]
  },
  {
   "cell_type": "code",
   "execution_count": 219,
   "id": "2cde4165-efa9-43b2-8f59-c214990aeb76",
   "metadata": {},
   "outputs": [
    {
     "name": "stdout",
     "output_type": "stream",
     "text": [
      "The autoreload extension is already loaded. To reload it, use:\n",
      "  %reload_ext autoreload\n"
     ]
    }
   ],
   "source": [
    "%load_ext autoreload\n",
    "%autoreload 2"
   ]
  },
  {
   "cell_type": "markdown",
   "id": "3edd42ca-b530-46a9-9f91-737ef9cb4164",
   "metadata": {
    "tags": []
   },
   "source": [
    "----\n",
    "\n",
    "## Local Climate Zone (LCZ) Training Dataset"
   ]
  },
  {
   "cell_type": "markdown",
   "id": "fe8a7562-3832-49cd-9907-3df0d7b6d089",
   "metadata": {},
   "source": [
    "### Look for Training Dataset\n",
    "\n",
    "Additional methods for dataset is here: https://www.tensorflow.org/datasets/overview\n"
   ]
  },
  {
   "cell_type": "code",
   "execution_count": null,
   "id": "a58d1a42-a199-4750-a102-00997ed156b7",
   "metadata": {
    "scrolled": true,
    "tags": []
   },
   "outputs": [],
   "source": [
    "# take a look at the available datasets\n",
    "tfds.list_builders()"
   ]
  },
  {
   "cell_type": "markdown",
   "id": "33217fee-b432-4255-855c-1fae2330eed8",
   "metadata": {
    "jp-MarkdownHeadingCollapsed": true,
    "tags": []
   },
   "source": [
    "### Download Dataset\n",
    "\n",
    "To execute only if downloading dataset for the first time"
   ]
  },
  {
   "cell_type": "code",
   "execution_count": 4,
   "id": "bf9e2eb2-f650-432b-ae2f-2b7b79a10ec0",
   "metadata": {
    "tags": []
   },
   "outputs": [
    {
     "name": "stdout",
     "output_type": "stream",
     "text": [
      "<_PrefetchDataset element_spec={'label': TensorSpec(shape=(), dtype=tf.int64, name=None), 'sample_id': TensorSpec(shape=(), dtype=tf.int64, name=None), 'sentinel1': TensorSpec(shape=(32, 32, 8), dtype=tf.float32, name=None), 'sentinel2': TensorSpec(shape=(32, 32, 10), dtype=tf.float32, name=None)}>\n"
     ]
    }
   ],
   "source": [
    "## Only execute if downloading dataset for the first time - RGB only values\n",
    "# the dataset we want, so2sat is available\n",
    "ds_so2sat, ds_info = tfds.load('so2sat', split='all', shuffle_files=True, with_info=True)\n",
    "# check if loading of dataset is successfully\n",
    "assert isinstance(ds_so2sat, tf.data.Dataset)\n",
    "# check dataset\n",
    "print(ds_so2sat)"
   ]
  },
  {
   "cell_type": "code",
   "execution_count": 4,
   "id": "3cb625b4-7888-4abc-8b8e-8dc8ad7c3544",
   "metadata": {
    "tags": []
   },
   "outputs": [
    {
     "name": "stdout",
     "output_type": "stream",
     "text": [
      "<_PrefetchDataset element_spec={'label': TensorSpec(shape=(), dtype=tf.int64, name=None), 'sample_id': TensorSpec(shape=(), dtype=tf.int64, name=None), 'sentinel1': TensorSpec(shape=(32, 32, 8), dtype=tf.float32, name=None), 'sentinel2': TensorSpec(shape=(32, 32, 10), dtype=tf.float32, name=None)}>\n"
     ]
    }
   ],
   "source": [
    "## Only execute if downloading dataset for the first time  - All 10 bands\n",
    "# the dataset we want, so2sat is available\n",
    "ds_so2sat, ds_info = tfds.load('so2sat/all', split='all', shuffle_files=True, with_info=True)\n",
    "# check if loading of dataset is successfully\n",
    "assert isinstance(ds_so2sat, tf.data.Dataset)\n",
    "# check dataset\n",
    "print(ds_so2sat)"
   ]
  },
  {
   "cell_type": "code",
   "execution_count": 5,
   "id": "178a0594-696e-43bd-b8eb-dcdec3fa75f5",
   "metadata": {},
   "outputs": [
    {
     "name": "stdout",
     "output_type": "stream",
     "text": [
      "79G\t/home/dsisg_yusheng/tensorflow_datasets\n",
      "7.6G\t/home/dsisg_yusheng/miniconda3\n",
      "21M\t/home/dsisg_yusheng/projects\n",
      "216K\t/home/dsisg_yusheng/nohup.out\n"
     ]
    }
   ],
   "source": [
    "# check how much disk space has been used\n",
    "!du -sh ~/* | sort -hr | head -n10"
   ]
  },
  {
   "cell_type": "markdown",
   "id": "77b8387a-b812-43cf-a391-4ce6086533c8",
   "metadata": {},
   "source": [
    "### Load Dataset\n",
    "\n",
    "After first download, this can be used to load the dataset in whichever format needed (https://cloud.google.com/storage/docs/public-datasets/sentinel-2)"
   ]
  },
  {
   "cell_type": "code",
   "execution_count": 3,
   "id": "dd94c1a8-c73f-467f-aa5b-9b9c85b132e0",
   "metadata": {},
   "outputs": [
    {
     "name": "stderr",
     "output_type": "stream",
     "text": [
      "2023-05-13 03:34:44.286113: I tensorflow/core/common_runtime/process_util.cc:146] Creating new thread pool with default inter op setting: 2. Tune using inter_op_parallelism_threads for best performance.\n"
     ]
    }
   ],
   "source": [
    "# load dataset - specify split if need to split into train and validation\n",
    "ds_so2sat, ds_info = tfds.load('so2sat', split=['train','validation'], with_info=True, download=False)"
   ]
  },
  {
   "cell_type": "code",
   "execution_count": 119,
   "id": "86acf9fe-75a8-4056-a5b0-94c00f72b0c6",
   "metadata": {
    "scrolled": true,
    "tags": []
   },
   "outputs": [
    {
     "name": "stderr",
     "output_type": "stream",
     "text": [
      "2023-05-13 08:31:31.002684: I tensorflow/core/common_runtime/executor.cc:1197] [/device:CPU:0] (DEBUG INFO) Executor start aborting (this does not indicate an error and you can ignore this message): INVALID_ARGUMENT: You must feed a value for placeholder tensor 'Placeholder/_4' with dtype int64 and shape [8]\n",
      "\t [[{{node Placeholder/_4}}]]\n",
      "2023-05-13 08:31:31.003222: I tensorflow/core/common_runtime/executor.cc:1197] [/device:CPU:0] (DEBUG INFO) Executor start aborting (this does not indicate an error and you can ignore this message): INVALID_ARGUMENT: You must feed a value for placeholder tensor 'Placeholder/_2' with dtype string and shape [8]\n",
      "\t [[{{node Placeholder/_2}}]]\n"
     ]
    },
    {
     "data": {
      "image/png": "[encoded data removed]",
      "text/plain": [
       "<Figure size 900x900 with 9 Axes>"
      ]
     },
     "metadata": {},
     "output_type": "display_data"
    }
   ],
   "source": [
    "# show examples of train datasets\n",
    "tfds.show_examples(ds_so2sat[0], ds_info);"
   ]
  },
  {
   "cell_type": "code",
   "execution_count": 123,
   "id": "84fabe8e-d63e-491e-b9c4-137698c67b97",
   "metadata": {},
   "outputs": [
    {
     "name": "stdout",
     "output_type": "stream",
     "text": [
      "training dataset size:\t 352366\n",
      "validation dataset size: 24119\n"
     ]
    }
   ],
   "source": [
    "# check out size of train and validation datasets\n",
    "print(f'training dataset size:\\t {tf.data.experimental.cardinality(ds_so2sat[0])}')\n",
    "print(f'validation dataset size: {tf.data.experimental.cardinality(ds_so2sat[1])}')"
   ]
  },
  {
   "cell_type": "markdown",
   "id": "42175fdf-af97-4813-859a-75d65cc9caf8",
   "metadata": {
    "tags": []
   },
   "source": [
    "----\n",
    "\n",
    "## Satellite Imagery of Singapore for Local Climate Zone (LCZ) Identification"
   ]
  },
  {
   "cell_type": "markdown",
   "id": "d69a5bdd-44e8-41a1-b938-6fdea0f65003",
   "metadata": {},
   "source": [
    "### Download SENTINEL-2 Data\n",
    "\n",
    "We use Google Earth Engine to download Sentinel-2 composite images on the fly to reduce disk space usage\n",
    "\n",
    "We will be using Sentinel-2 MSI: MultiSpectral Instrument, Level-2A ([COPERNICUS/S2_SR](https://developers.google.com/earth-engine/datasets/catalog/COPERNICUS_S2_SR))"
   ]
  },
  {
   "cell_type": "code",
   "execution_count": 18,
   "id": "8608d8ae-b0e2-494d-b181-1f460d7dcab9",
   "metadata": {},
   "outputs": [
    {
     "data": {
      "text/html": [
       "<p>To authorize access needed by Earth Engine, open the following\n",
       "        URL in a web browser and follow the instructions:</p>\n",
       "        <p><a href=https://code.earthengine.google.com/client-auth?scopes=https%3A//www.googleapis.com/auth/earthengine%20https%3A//www.googleapis.com/auth/devstorage.full_control&request_id=NMxOlLX9LhveBNcoZVaiSVeGRsuefW4DasWQTxLKPZk&tc=0ozCJnB-Dn41E7-hHcJ2tBJyAiLFptjnoV--noxGcbs&cc=UAykjIZR145bsw5UDXsii_5xI7L-OOjKXUOazTtp6Wg>https://code.earthengine.google.com/client-auth?scopes=https%3A//www.googleapis.com/auth/earthengine%20https%3A//www.googleapis.com/auth/devstorage.full_control&request_id=NMxOlLX9LhveBNcoZVaiSVeGRsuefW4DasWQTxLKPZk&tc=0ozCJnB-Dn41E7-hHcJ2tBJyAiLFptjnoV--noxGcbs&cc=UAykjIZR145bsw5UDXsii_5xI7L-OOjKXUOazTtp6Wg</a></p>\n",
       "        <p>The authorization workflow will generate a code, which you should paste in the box below.</p>\n",
       "        "
      ],
      "text/plain": [
       "<IPython.core.display.HTML object>"
      ]
     },
     "metadata": {},
     "output_type": "display_data"
    },
    {
     "name": "stdin",
     "output_type": "stream",
     "text": [
      "Enter verification code:  4/1AbUR2VMegT_StVwY7cOo8YYZrk7_XVLo0vGi3K90ND1wM1TPPVK1TEXZBRg\n"
     ]
    },
    {
     "name": "stdout",
     "output_type": "stream",
     "text": [
      "\n",
      "Successfully saved authorization token.\n"
     ]
    }
   ],
   "source": [
    "# Run this only if your account has not been set up for GEE\n",
    "# create authentication token for accessing Earth Engine API\n",
    "ee.Authenticate()"
   ]
  },
  {
   "cell_type": "code",
   "execution_count": 19,
   "id": "e6020a2a-662f-44e8-8bc5-078ef6ca6421",
   "metadata": {},
   "outputs": [],
   "source": [
    "# Initialise access to Earth Engine\n",
    "ee.Initialize()"
   ]
  },
  {
   "cell_type": "code",
   "execution_count": 23,
   "id": "ffad2dba-a5cd-4692-a0e4-6cd3e3d8ab78",
   "metadata": {},
   "outputs": [],
   "source": [
    "# Define geographical bounds of dataset\n",
    "singapore_bounds = ee.FeatureCollection('USDOS/LSIB/2017').filter(ee.Filter.eq('COUNTRY_NA', 'Singapore'))\n",
    "#bounds = Singapore.geometry().bounds()"
   ]
  },
  {
   "cell_type": "code",
   "execution_count": 7,
   "id": "6177235d-1bfb-4382-8b90-c412ef30061a",
   "metadata": {},
   "outputs": [],
   "source": [
    "# define time frame of image\n",
    "end_date = '2023-05-10'\n",
    "start_date = datetime.strftime(datetime.strptime('2023-05-10', '%Y-%m-%d') - relativedelta(months=9), format='%Y-%m-%d')"
   ]
  },
  {
   "cell_type": "code",
   "execution_count": 58,
   "id": "76f6e341-c6d3-4cfa-a04c-3ef682f7d279",
   "metadata": {},
   "outputs": [],
   "source": [
    "# get image composite without clouds\n",
    "sen2_cloudless = get_s2_w_cloud_prob(singapore_bounds, start_date, end_date)\n",
    "\n",
    "sen2_cloudless = (sen2_cloudless.map(add_cloud_shadow_mask)\n",
    "                                .map(apply_cld_shdw_mask)\n",
    "                                .mean())"
   ]
  },
  {
   "cell_type": "markdown",
   "id": "b94b8db1-973c-40a8-9572-cb77a2ce8e80",
   "metadata": {},
   "source": [
    "#### Visualisation of Sentinel-2 Composite Image"
   ]
  },
  {
   "cell_type": "code",
   "execution_count": 60,
   "id": "6812ceed-4ffe-4e42-9389-ccb7b84ff2fc",
   "metadata": {},
   "outputs": [
    {
     "data": {
      "text/html": [
       "<div style=\"width:100%;\"><div style=\"position:relative;width:100%;height:0;padding-bottom:60%;\"><span style=\"color:#565656\">Make this Notebook Trusted to load map: File -> Trust Notebook</span><iframe srcdoc=\"&lt;!DOCTYPE html&gt;\n",
       "&lt;html&gt;\n",
       "&lt;head&gt;\n",
       "    \n",
       "    &lt;meta http-equiv=&quot;content-type&quot; content=&quot;text/html; charset=UTF-8&quot; /&gt;\n",
       "    \n",
       "        &lt;script&gt;\n",
       "            L_NO_TOUCH = false;\n",
       "            L_DISABLE_3D = false;\n",
       "        &lt;/script&gt;\n",
       "    \n",
       "    &lt;style&gt;html, body {width: 100%;height: 100%;margin: 0;padding: 0;}&lt;/style&gt;\n",
       "    &lt;style&gt;#map {position:absolute;top:0;bottom:0;right:0;left:0;}&lt;/style&gt;\n",
       "    &lt;script src=&quot;https://cdn.jsdelivr.net/npm/leaflet@1.9.3/dist/leaflet.js&quot;&gt;&lt;/script&gt;\n",
       "    &lt;script src=&quot;https://code.jquery.com/jquery-1.12.4.min.js&quot;&gt;&lt;/script&gt;\n",
       "    &lt;script src=&quot;https://cdn.jsdelivr.net/npm/bootstrap@5.2.2/dist/js/bootstrap.bundle.min.js&quot;&gt;&lt;/script&gt;\n",
       "    &lt;script src=&quot;https://cdnjs.cloudflare.com/ajax/libs/Leaflet.awesome-markers/2.0.2/leaflet.awesome-markers.js&quot;&gt;&lt;/script&gt;\n",
       "    &lt;link rel=&quot;stylesheet&quot; href=&quot;https://cdn.jsdelivr.net/npm/leaflet@1.9.3/dist/leaflet.css&quot;/&gt;\n",
       "    &lt;link rel=&quot;stylesheet&quot; href=&quot;https://cdn.jsdelivr.net/npm/bootstrap@5.2.2/dist/css/bootstrap.min.css&quot;/&gt;\n",
       "    &lt;link rel=&quot;stylesheet&quot; href=&quot;https://netdna.bootstrapcdn.com/bootstrap/3.0.0/css/bootstrap.min.css&quot;/&gt;\n",
       "    &lt;link rel=&quot;stylesheet&quot; href=&quot;https://cdn.jsdelivr.net/npm/@fortawesome/fontawesome-free@6.2.0/css/all.min.css&quot;/&gt;\n",
       "    &lt;link rel=&quot;stylesheet&quot; href=&quot;https://cdnjs.cloudflare.com/ajax/libs/Leaflet.awesome-markers/2.0.2/leaflet.awesome-markers.css&quot;/&gt;\n",
       "    &lt;link rel=&quot;stylesheet&quot; href=&quot;https://cdn.jsdelivr.net/gh/python-visualization/folium/folium/templates/leaflet.awesome.rotate.min.css&quot;/&gt;\n",
       "    \n",
       "            &lt;meta name=&quot;viewport&quot; content=&quot;width=device-width,\n",
       "                initial-scale=1.0, maximum-scale=1.0, user-scalable=no&quot; /&gt;\n",
       "            &lt;style&gt;\n",
       "                #map_6e335246c91cc57cdc029e261e7fb8a8 {\n",
       "                    position: relative;\n",
       "                    width: 100.0%;\n",
       "                    height: 100.0%;\n",
       "                    left: 0.0%;\n",
       "                    top: 0.0%;\n",
       "                }\n",
       "                .leaflet-container { font-size: 1rem; }\n",
       "            &lt;/style&gt;\n",
       "        \n",
       "&lt;/head&gt;\n",
       "&lt;body&gt;\n",
       "    \n",
       "    \n",
       "            &lt;div class=&quot;folium-map&quot; id=&quot;map_6e335246c91cc57cdc029e261e7fb8a8&quot; &gt;&lt;/div&gt;\n",
       "        \n",
       "&lt;/body&gt;\n",
       "&lt;script&gt;\n",
       "    \n",
       "    \n",
       "            var map_6e335246c91cc57cdc029e261e7fb8a8 = L.map(\n",
       "                &quot;map_6e335246c91cc57cdc029e261e7fb8a8&quot;,\n",
       "                {\n",
       "                    center: [1.3426314984523204, 103.84561660043924],\n",
       "                    crs: L.CRS.EPSG3857,\n",
       "                    zoom: 12,\n",
       "                    zoomControl: true,\n",
       "                    preferCanvas: false,\n",
       "                }\n",
       "            );\n",
       "\n",
       "            \n",
       "\n",
       "        \n",
       "    \n",
       "            var tile_layer_3bd562f0d8b2c3219f5c834cbb7b3ee3 = L.tileLayer(\n",
       "                &quot;https://{s}.tile.openstreetmap.org/{z}/{x}/{y}.png&quot;,\n",
       "                {&quot;attribution&quot;: &quot;Data by \\u0026copy; \\u003ca target=\\&quot;_blank\\&quot; href=\\&quot;http://openstreetmap.org\\&quot;\\u003eOpenStreetMap\\u003c/a\\u003e, under \\u003ca target=\\&quot;_blank\\&quot; href=\\&quot;http://www.openstreetmap.org/copyright\\&quot;\\u003eODbL\\u003c/a\\u003e.&quot;, &quot;detectRetina&quot;: false, &quot;maxNativeZoom&quot;: 18, &quot;maxZoom&quot;: 18, &quot;minZoom&quot;: 0, &quot;noWrap&quot;: false, &quot;opacity&quot;: 1, &quot;subdomains&quot;: &quot;abc&quot;, &quot;tms&quot;: false}\n",
       "            ).addTo(map_6e335246c91cc57cdc029e261e7fb8a8);\n",
       "        \n",
       "    \n",
       "            var tile_layer_dd984da7d1e1c34c30bedf1e1479afb1 = L.tileLayer(\n",
       "                &quot;https://earthengine.googleapis.com/v1alpha/projects/earthengine-legacy/maps/3c4da9909c16a42b7cb0de5efed72a95-31bf88ad195d69730639d45325774ae4/tiles/{z}/{x}/{y}&quot;,\n",
       "                {&quot;attribution&quot;: &quot;Map Data \\u0026copy; \\u003ca href=\\&quot;https://earthengine.google.com/\\&quot;\\u003eGoogle Earth Engine\\u003c/a\\u003e&quot;, &quot;detectRetina&quot;: false, &quot;maxNativeZoom&quot;: 18, &quot;maxZoom&quot;: 18, &quot;minZoom&quot;: 9, &quot;noWrap&quot;: false, &quot;opacity&quot;: 1, &quot;subdomains&quot;: &quot;abc&quot;, &quot;tms&quot;: false}\n",
       "            ).addTo(map_6e335246c91cc57cdc029e261e7fb8a8);\n",
       "        \n",
       "    \n",
       "            var layer_control_3572978791d48e1868aecc650111fe64 = {\n",
       "                base_layers : {\n",
       "                    &quot;openstreetmap&quot; : tile_layer_3bd562f0d8b2c3219f5c834cbb7b3ee3,\n",
       "                },\n",
       "                overlays :  {\n",
       "                    &quot;S2 cloud-free mosaic&quot; : tile_layer_dd984da7d1e1c34c30bedf1e1479afb1,\n",
       "                },\n",
       "            };\n",
       "            L.control.layers(\n",
       "                layer_control_3572978791d48e1868aecc650111fe64.base_layers,\n",
       "                layer_control_3572978791d48e1868aecc650111fe64.overlays,\n",
       "                {&quot;autoZIndex&quot;: true, &quot;collapsed&quot;: true, &quot;position&quot;: &quot;topright&quot;}\n",
       "            ).addTo(map_6e335246c91cc57cdc029e261e7fb8a8);\n",
       "        \n",
       "&lt;/script&gt;\n",
       "&lt;/html&gt;\" style=\"position:absolute;width:100%;height:100%;left:0;top:0;border:none !important;\" allowfullscreen webkitallowfullscreen mozallowfullscreen></iframe></div></div>"
      ],
      "text/plain": [
       "<folium.folium.Map at 0x7f354dc21c30>"
      ]
     },
     "metadata": {},
     "output_type": "display_data"
    }
   ],
   "source": [
    "# Create a folium map object.\n",
    "center = singapore_bounds.geometry().bounds().centroid(10).coordinates().reverse().getInfo()\n",
    "m = folium.Map(location=center, zoom_start=12)\n",
    "\n",
    "# Add layers to the folium map.\n",
    "m.add_ee_layer(sen2_cloudless,\n",
    "                {'bands': ['B4', 'B3', 'B2'], 'min': 0, 'max': 4000, 'gamma': 1.1},\n",
    "                'S2 cloud-free mosaic', True, 1, 9)\n",
    "\n",
    "# Add a layer control panel to the map.\n",
    "m.add_child(folium.LayerControl())\n",
    "\n",
    "# Display the map.\n",
    "display(m)\n"
   ]
  },
  {
   "cell_type": "markdown",
   "id": "e6bfc780-a1c5-484e-be98-368ecb1ecc3d",
   "metadata": {
    "tags": []
   },
   "source": [
    "----\n",
    "\n",
    "## Weather Station Locations\n",
    "\n",
    "Before we can download the weather data from data.gov.sg, we need to find the locations of the weather stations so that LST and LCZ information can be downloaded at the same time for greater efficiency"
   ]
  },
  {
   "cell_type": "code",
   "execution_count": 4,
   "id": "8007d28c-d59c-4c9e-b0f9-07fb3e8f5acb",
   "metadata": {},
   "outputs": [],
   "source": [
    "## Get coordinates of weather stations\n",
    "date_params = {\n",
    "    'date': '2023-05-12'\n",
    "}"
   ]
  },
  {
   "cell_type": "code",
   "execution_count": 5,
   "id": "283b9fc7-82f2-47a4-b671-a9b0144c0895",
   "metadata": {},
   "outputs": [],
   "source": [
    "# get the latest weather data\n",
    "weather_station_loc = requests.get(WEATHER_URL, date_params).json()\n"
   ]
  },
  {
   "cell_type": "code",
   "execution_count": 6,
   "id": "111a57eb-2aab-4351-bce7-cf729c004eb0",
   "metadata": {},
   "outputs": [],
   "source": [
    "# take only the metadata of the weather stations and make dataframe\n",
    "weather_station_loc = pd.DataFrame.from_dict(weather_station_loc['metadata']['stations'])\n",
    "\n",
    "# the location information needs to be exploded\n",
    "weather_station_loc = pd.concat([weather_station_loc.drop('location', axis=1), weather_station_loc['location'].apply(pd.Series)], axis=1)\n"
   ]
  },
  {
   "cell_type": "code",
   "execution_count": 7,
   "id": "a28d2be4-c705-402a-a95e-a5231f3715f2",
   "metadata": {},
   "outputs": [
    {
     "name": "stdout",
     "output_type": "stream",
     "text": [
      "<class 'pandas.core.frame.DataFrame'>\n",
      "RangeIndex: 15 entries, 0 to 14\n",
      "Data columns (total 5 columns):\n",
      " #   Column     Non-Null Count  Dtype  \n",
      "---  ------     --------------  -----  \n",
      " 0   id         15 non-null     object \n",
      " 1   device_id  15 non-null     object \n",
      " 2   name       15 non-null     object \n",
      " 3   latitude   15 non-null     float64\n",
      " 4   longitude  15 non-null     float64\n",
      "dtypes: float64(2), object(3)\n",
      "memory usage: 728.0+ bytes\n"
     ]
    }
   ],
   "source": [
    "weather_station_loc.info()"
   ]
  },
  {
   "cell_type": "code",
   "execution_count": 8,
   "id": "80de7842-98be-4e8b-8d75-97e50704a9c8",
   "metadata": {},
   "outputs": [
    {
     "data": {
      "text/html": [
       "<div>\n",
       "<style scoped>\n",
       "    .dataframe tbody tr th:only-of-type {\n",
       "        vertical-align: middle;\n",
       "    }\n",
       "\n",
       "    .dataframe tbody tr th {\n",
       "        vertical-align: top;\n",
       "    }\n",
       "\n",
       "    .dataframe thead th {\n",
       "        text-align: right;\n",
       "    }\n",
       "</style>\n",
       "<table border=\"1\" class=\"dataframe\">\n",
       "  <thead>\n",
       "    <tr style=\"text-align: right;\">\n",
       "      <th></th>\n",
       "      <th>id</th>\n",
       "      <th>device_id</th>\n",
       "      <th>name</th>\n",
       "      <th>latitude</th>\n",
       "      <th>longitude</th>\n",
       "    </tr>\n",
       "  </thead>\n",
       "  <tbody>\n",
       "    <tr>\n",
       "      <th>0</th>\n",
       "      <td>S109</td>\n",
       "      <td>S109</td>\n",
       "      <td>Ang Mo Kio Avenue 5</td>\n",
       "      <td>1.3764</td>\n",
       "      <td>103.8492</td>\n",
       "    </tr>\n",
       "    <tr>\n",
       "      <th>1</th>\n",
       "      <td>S117</td>\n",
       "      <td>S117</td>\n",
       "      <td>Banyan Road</td>\n",
       "      <td>1.2560</td>\n",
       "      <td>103.6790</td>\n",
       "    </tr>\n",
       "    <tr>\n",
       "      <th>2</th>\n",
       "      <td>S50</td>\n",
       "      <td>S50</td>\n",
       "      <td>Clementi Road</td>\n",
       "      <td>1.3337</td>\n",
       "      <td>103.7768</td>\n",
       "    </tr>\n",
       "    <tr>\n",
       "      <th>3</th>\n",
       "      <td>S107</td>\n",
       "      <td>S107</td>\n",
       "      <td>East Coast Parkway</td>\n",
       "      <td>1.3135</td>\n",
       "      <td>103.9625</td>\n",
       "    </tr>\n",
       "    <tr>\n",
       "      <th>4</th>\n",
       "      <td>S43</td>\n",
       "      <td>S43</td>\n",
       "      <td>Kim Chuan Road</td>\n",
       "      <td>1.3399</td>\n",
       "      <td>103.8878</td>\n",
       "    </tr>\n",
       "  </tbody>\n",
       "</table>\n",
       "</div>"
      ],
      "text/plain": [
       "     id device_id                 name  latitude  longitude\n",
       "0  S109      S109  Ang Mo Kio Avenue 5    1.3764   103.8492\n",
       "1  S117      S117          Banyan Road    1.2560   103.6790\n",
       "2   S50       S50        Clementi Road    1.3337   103.7768\n",
       "3  S107      S107   East Coast Parkway    1.3135   103.9625\n",
       "4   S43       S43       Kim Chuan Road    1.3399   103.8878"
      ]
     },
     "execution_count": 8,
     "metadata": {},
     "output_type": "execute_result"
    }
   ],
   "source": [
    "weather_station_loc.head()"
   ]
  },
  {
   "cell_type": "code",
   "execution_count": 9,
   "id": "e7469571-4c35-4b5c-902e-a175ce0d39cd",
   "metadata": {},
   "outputs": [],
   "source": [
    "# save weather station data into csv\n",
    "weather_station_loc.to_csv('../datasets/weather_station_loc.csv', index=False)"
   ]
  },
  {
   "cell_type": "markdown",
   "id": "4afad93d-d957-4e9b-8cfe-18051b45ea2a",
   "metadata": {
    "tags": []
   },
   "source": [
    "----\n",
    "\n",
    "## Weather and Land Surface Temperature (LST) Data\n",
    "\n",
    "For greater efficiency and lower storage needs, we will download the relevant data for only the 320m x 320m square around each weather station"
   ]
  },
  {
   "cell_type": "markdown",
   "id": "9d51123d-98eb-42f8-973e-5ad276cb579c",
   "metadata": {},
   "source": [
    "### MODIS Data for LST Estimation\n",
    "\n",
    "We use Google Earth Engine to download MODIS Land Surface Temperature (LST) data, as this provides the most direct source of LST data. The downside is that it has a much lower resolution of 1km x 1km\n",
    "\n",
    "We will be using MOD21A1D.061 Terra Land Surface Temperature and 3-Band Emissivity Daily Global 1km ([MODIS/061/MOD21A1D](https://developers.google.com/earth-engine/datasets/catalog/MODIS_061_MOD21A1D#bands))\n"
   ]
  },
  {
   "cell_type": "markdown",
   "id": "8682a6c2-2ce4-426e-85eb-90aac4697dd7",
   "metadata": {
    "tags": []
   },
   "source": [
    "### Overall Workflow\n",
    "1. For each weather station, we download all the images for LST in 320mx320m grid which has less than 60^ cloud cover\n",
    "2. We extract the dateime for each valid image\n",
    "3. For each datetime and weather station, we download the air temperature from NEA\n",
    "4. For each datetime and weather station, we download the composite Sentinel 2 image of last 9 months 320mx320m grid centred at weather station\n",
    "5. We merge all the data together"
   ]
  },
  {
   "cell_type": "markdown",
   "id": "aba8d808-706a-4e65-83b8-9fbca20fc247",
   "metadata": {},
   "source": [
    "#### Data Download and Merging"
   ]
  },
  {
   "cell_type": "code",
   "execution_count": 157,
   "id": "802e659f-f311-4738-bc8d-4688416fac3a",
   "metadata": {},
   "outputs": [],
   "source": [
    "# get MODIS image collection from Earth Engine\n",
    "modis = (ee.ImageCollection('MODIS/061/MOD21A1D')\n",
    "         .filterDate(ORIGIN_DATE, FINAL_DATE)\n",
    "         .map(reproject_image)\n",
    "        )"
   ]
  },
  {
   "cell_type": "code",
   "execution_count": 258,
   "id": "6fd1fb7d-2e9b-4211-a72f-ccf1fb31c1a0",
   "metadata": {},
   "outputs": [],
   "source": [
    "# get Sentinel2 image collection from Earth Engine\n",
    "sen2 = get_s2_w_cloud_prob(singapore_bounds,\n",
    "                           datetime.strftime(datetime.strptime(ORIGIN_DATE, '%Y-%m-%d')-relativedelta(months=9), '%Y-%m-%d'), \n",
    "                           FINAL_DATE)"
   ]
  },
  {
   "cell_type": "markdown",
   "id": "db15a8d7-6b34-49cb-8eea-fb20a002b7c8",
   "metadata": {},
   "source": [
    "Note: the code below takes a significant amount of time to execute as it is repeatedly calling the data.gov.sg and GEE APIs"
   ]
  },
  {
   "cell_type": "code",
   "execution_count": 511,
   "id": "425549d5-4875-496d-8ac6-1ad41ad1d96d",
   "metadata": {
    "scrolled": true,
    "tags": []
   },
   "outputs": [
    {
     "name": "stdout",
     "output_type": "stream",
     "text": [
      "Extracting Station S109 Information...Extracting Station S117 Information...Extracting Station S50 Information...Extracting Station S107 Information...Extracting Station S43 Information...Extracting Station S44 Information...Extracting Station S121 Information...Extracting Station S106 Information...Extracting Station S111 Information...Extracting Station S60 Information...Extracting Station S24 Information...Extracting Station S116 Information...Extracting Station S104 Information...Extracting Station S100 Information...Extracting Station S115 Information..."
     ]
    }
   ],
   "source": [
    "# for each weather station\n",
    "for i, station in weather_station_loc.iterrows():\n",
    "    \n",
    "    print(f'Extracting Station {station[\"id\"]} Information...', end='\\r')\n",
    "    \n",
    "    # get the latlong\n",
    "    location = (station['longitude'], station['latitude'])\n",
    "    poi = ee.Geometry.Point(location)\n",
    "    \n",
    "    # get all LST images from MODIS centred at this location, where LST is not null\n",
    "    lst = get_lst(modis, poi)\n",
    "    \n",
    "    # for each LST datapoint\n",
    "    image_df = pd.DataFrame(index=range(lst.shape[0]), columns=['image'])\n",
    "    airtemp_df = pd.DataFrame(index=range(lst.shape[0]), columns=['airtemp'])\n",
    "    \n",
    "    for j, item in lst.iterrows():\n",
    "        \n",
    "        # extract datetime\n",
    "        dt = item['datetime']\n",
    "        \n",
    "        # get all Sentinel 2 composite image centred at this location (previous 9 months ending with each LST image)\n",
    "        aoi = get_tile(poi, SEN2_TILESIZE-10) # define polygon to get, -10 to get a 320m by 320m image\n",
    "        image = get_sen2_composite_img(sen2, dt) # get Earth Engine image object first\n",
    "        image = convert_img_to_np(image, aoi)*SEN2_SCALEFACTOR # get np array of image and normalise\n",
    "        \n",
    "        # get air temp\n",
    "        airtemp = get_airtemp(station['id'], dt)\n",
    "        \n",
    "        # append to dataframes\n",
    "        image_df.loc[j, 'image'] = [image]\n",
    "        airtemp_df.loc[j, 'airtemp'] = airtemp\n",
    "        \n",
    "    # append to dataframe - id | lon | lat | datetime | LST | Sen2(nparray) | air temp\n",
    "    station_df = pd.concat([lst, image_df, airtemp_df], axis=1)\n",
    "    station_df['id'] = station['id']\n",
    "    \n",
    "    # stitch on to consolidated dataset\n",
    "    if i == 0: # for the first station,\n",
    "        df = station_df # create the consolidated dataset\n",
    "    else:\n",
    "        df = pd.concat([df, station_df], axis=0)\n",
    "    "
   ]
  },
  {
   "cell_type": "markdown",
   "id": "75c0058b-2d54-4ee5-adad-58053c1af0d6",
   "metadata": {},
   "source": [
    "#### Data Cleaning"
   ]
  },
  {
   "cell_type": "code",
   "execution_count": 517,
   "id": "e39283e1-6158-45ca-939d-0ec45804ab6e",
   "metadata": {},
   "outputs": [],
   "source": [
    "# convert dtype for lon lat and airtemp to float64\n",
    "df = df.astype({'longitude': 'float64',\n",
    "           'latitude': 'float64',\n",
    "           'airtemp': 'float64'})"
   ]
  },
  {
   "cell_type": "code",
   "execution_count": 521,
   "id": "27e1840d-38d0-4ede-802f-0009d8236c6f",
   "metadata": {},
   "outputs": [
    {
     "name": "stdout",
     "output_type": "stream",
     "text": [
      "<class 'pandas.core.frame.DataFrame'>\n",
      "Int64Index: 1247 entries, 0 to 78\n",
      "Data columns (total 7 columns):\n",
      " #   Column     Non-Null Count  Dtype         \n",
      "---  ------     --------------  -----         \n",
      " 0   datetime   1247 non-null   datetime64[ns]\n",
      " 1   longitude  1247 non-null   float64       \n",
      " 2   latitude   1247 non-null   float64       \n",
      " 3   LST        1247 non-null   float64       \n",
      " 4   image      1247 non-null   object        \n",
      " 5   airtemp    1088 non-null   float64       \n",
      " 6   id         1247 non-null   object        \n",
      "dtypes: datetime64[ns](1), float64(4), object(2)\n",
      "memory usage: 77.9+ KB\n"
     ]
    }
   ],
   "source": [
    "df.info()"
   ]
  },
  {
   "cell_type": "markdown",
   "id": "8bc2ef2a-c098-44c2-b55e-01b3fabb1331",
   "metadata": {},
   "source": [
    "#### Save Dataset"
   ]
  },
  {
   "cell_type": "code",
   "execution_count": 520,
   "id": "ffa80b75-ff83-4d9f-a3fc-d0874b1d53f7",
   "metadata": {},
   "outputs": [],
   "source": [
    "# save dataset as pickle file\n",
    "pickle.dump(df, open('../datasets/airtemp_train.pkl', 'wb'))\n",
    "#df.to_csv('../datasets/airtemp_train.csv', index=False)"
   ]
  }
 ],
 "metadata": {
  "kernelspec": {
   "display_name": "Python 3 (ipykernel)",
   "language": "python",
   "name": "python3"
  },
  "language_info": {
   "codemirror_mode": {
    "name": "ipython",
    "version": 3
   },
   "file_extension": ".py",
   "mimetype": "text/x-python",
   "name": "python",
   "nbconvert_exporter": "python",
   "pygments_lexer": "ipython3",
   "version": "3.10.10"
  }
 },
 "nbformat": 4,
 "nbformat_minor": 5
}
